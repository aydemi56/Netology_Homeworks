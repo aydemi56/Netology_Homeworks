{
 "cells": [
  {
   "cell_type": "code",
   "execution_count": 7,
   "metadata": {},
   "outputs": [
    {
     "name": "stdout",
     "output_type": "stream",
     "text": [
      "{98, 35, 15, 213, 54, 119}\n"
     ]
    }
   ],
   "source": [
    "# Задание 1\n",
    "ids = {'user1': [213, 213, 213, 15, 213],'user2': [54, 54, 119, 119, 119],'user3': [213, 98, 98, 35]}\n",
    "\n",
    "lst= ids.values()\n",
    "newlst = []\n",
    "for vals in lst:\n",
    "    for i in vals: \n",
    "        newlst.append(i)    \n",
    "print (set(newlst))\n",
    "#вывод только уникальных значений этого списка, поскольку set не может содержать одинаковых элементов.\n"
   ]
  },
  {
   "cell_type": "code",
   "execution_count": 64,
   "metadata": {},
   "outputs": [
    {
     "name": "stdout",
     "output_type": "stream",
     "text": [
      "[3, 2, 2, 2, 3, 3, 3] [3, 4]\n",
      "Поисковых запросов, содержащих  2 слов(а):  28.57 %\n",
      "Поисковых запросов, содержащих  3 слов(а):  42.86 %\n"
     ]
    }
   ],
   "source": [
    "# Задание2\n",
    "# Наверное, предполагалось другое решение, но не могу его придумать, пока слишком сложно\n",
    "queries = [\n",
    "    'смотреть сериалы онлайн',\n",
    "    'новости спорта',\n",
    "    'афиша кино',\n",
    "    'курс доллара',\n",
    "    'сериалы этим летом',\n",
    "    'курс по питону',\n",
    "    'сериалы про спорт',\n",
    "]\n",
    "#Создаем список, который содержит количество слов во всех строках\n",
    "newlst = []\n",
    "for i in queries: \n",
    "    s = len(i.split())\n",
    "    newlst.append(s)\n",
    "# создаем новый список и считаем сколько раз встречается каждое уникальное значение\n",
    "newlst2 = []\n",
    "for i in set(newlst):\n",
    "    j = newlst.count(i)\n",
    "    newlst2.append(j)\n",
    "# считаем значения\n",
    "print (newlst, newlst2)\n",
    "for i in set(newlst):\n",
    "    print ('Поисковых запросов, содержащих ', i, 'слов(а): ', (round(float(i / sum(newlst2)*100),2)),'%')\n",
    "\n",
    "    "
   ]
  },
  {
   "cell_type": "code",
   "execution_count": 89,
   "metadata": {},
   "outputs": [
    {
     "name": "stdout",
     "output_type": "stream",
     "text": [
      "5\n",
      "17\n",
      "-6\n",
      "3\n",
      "-54\n"
     ]
    }
   ],
   "source": [
    "# Задание 3\n",
    "# Дана переменная, в которой хранится информация о затратах и доходе рекламных кампаний по различным источникам. \n",
    "# Необходимо дополнить исходную структуру показателем ROI, который рассчитаем по формуле: (revenue / cost - 1) * 100\n",
    "\n",
    "results = {\n",
    "    'vk': {'revenue': 103, 'cost': 98},\n",
    "    'yandex': {'revenue': 179, 'cost': 153},\n",
    "    'facebook': {'revenue': 103, 'cost': 110},\n",
    "    'adwords': {'revenue': 35, 'cost': 34},\n",
    "    'twitter': {'revenue': 11, 'cost': 24},\n",
    "}\n",
    "# выделяем значения словарей внутри словаря\n",
    "lst_3 = list(results.values())\n",
    "# сначала добираемся до значений revenue и cost, потом считаем roi\n",
    "for i in lst_3:\n",
    "    j = list(i.values())\n",
    "    revenue, cost = j\n",
    "    roi = round((revenue/cost - 1) * 100)\n",
    "    print (roi)\n",
    "\n",
    "# roi посчитал, но не знаю, как его теперь добавить в словарь (первоначальный)\n",
    "# Плиз хелп\n",
    "    \n",
    "    "
   ]
  },
  {
   "cell_type": "code",
   "execution_count": 88,
   "metadata": {},
   "outputs": [
    {
     "name": "stdout",
     "output_type": "stream",
     "text": [
      "vk {'revenue': 103, 'cost': 98, 'ROI': 5.1}\n",
      "yandex {'revenue': 179, 'cost': 153, 'ROI': 16.99}\n",
      "facebook {'revenue': 103, 'cost': 110, 'ROI': -6.36}\n",
      "adwords {'revenue': 35, 'cost': 34, 'ROI': 2.94}\n",
      "twitter {'revenue': 11, 'cost': 24, 'ROI': -54.17}\n"
     ]
    }
   ],
   "source": [
    "# Задание 3. Нашел решение в Интернете(( \n",
    "results = {\n",
    "    'vk': {'revenue': 103, 'cost': 98},\n",
    "    'yandex': {'revenue': 179, 'cost': 153},\n",
    "    'facebook': {'revenue': 103, 'cost': 110},\n",
    "    'adwords': {'revenue': 35, 'cost': 34},\n",
    "    'twitter': {'revenue': 11, 'cost': 24},\n",
    "}\n",
    "for key, value in results.items():\n",
    "    value['ROI'] = round(((value['revenue'] / value['cost']) - 1)*100 , 2)\n",
    "    print(key, value)"
   ]
  },
  {
   "cell_type": "code",
   "execution_count": 12,
   "metadata": {},
   "outputs": [
    {
     "name": "stdout",
     "output_type": "stream",
     "text": [
      "vk\n"
     ]
    }
   ],
   "source": [
    "# Задание 4\n",
    "stats = {'facebook': 55, 'yandex': 10, 'vk': 420, 'google': 99, 'email': 42, 'ok': 98}\n",
    "max_val = max(stats.items(), key=lambda x: x[1]) # вернёт ('facebook', 155)\n",
    "print(max_val[0])  # вернёт только facebook\n",
    "\n"
   ]
  },
  {
   "cell_type": "code",
   "execution_count": 1,
   "metadata": {},
   "outputs": [],
   "source": [
    "# Задание 5\n",
    "# ПОЖАЛУЙСТА, ПОДСКАЖИТЕ, РЕШЕНИЕ!\n",
    "my_list = ['2018-01-01', 'yandex', 'cpc', 100]\n"
   ]
  },
  {
   "cell_type": "code",
   "execution_count": 2,
   "metadata": {},
   "outputs": [
    {
     "ename": "TypeError",
     "evalue": "'builtin_function_or_method' object is not subscriptable",
     "output_type": "error",
     "traceback": [
      "\u001b[1;31m---------------------------------------------------------------------------\u001b[0m",
      "\u001b[1;31mTypeError\u001b[0m                                 Traceback (most recent call last)",
      "\u001b[1;32m<ipython-input-2-546537ab9fb1>\u001b[0m in \u001b[0;36m<module>\u001b[1;34m\u001b[0m\n\u001b[0;32m     46\u001b[0m     ]\n\u001b[0;32m     47\u001b[0m }\n\u001b[1;32m---> 48\u001b[1;33m \u001b[0mprint\u001b[0m \u001b[1;33m(\u001b[0m\u001b[0mcook_book\u001b[0m\u001b[1;33m.\u001b[0m\u001b[0mvalues\u001b[0m\u001b[1;33m[\u001b[0m\u001b[1;34m'quantity'\u001b[0m\u001b[1;33m]\u001b[0m\u001b[1;33m)\u001b[0m\u001b[1;33m\u001b[0m\u001b[1;33m\u001b[0m\u001b[0m\n\u001b[0m\u001b[0;32m     49\u001b[0m \u001b[1;31m#l = input('Введите количество порций: ')\u001b[0m\u001b[1;33m\u001b[0m\u001b[1;33m\u001b[0m\u001b[1;33m\u001b[0m\u001b[0m\n\u001b[0;32m     50\u001b[0m \u001b[1;33m\u001b[0m\u001b[0m\n",
      "\u001b[1;31mTypeError\u001b[0m: 'builtin_function_or_method' object is not subscriptable"
     ]
    }
   ],
   "source": [
    "# Задание 6\n",
    "# Дана книга рецептов с информацией о том, сколько ингредиентов нужно для приготовления блюда в расчете на одну порцию (пример данных представлен ниже).\n",
    "# Напишите программу, которая будет запрашивать у пользователя количество порций для приготовления этих блюд и отображать информацию о суммарном количестве требуемых ингредиентов в указанном виде.\n",
    "# Внимание! Одинаковые ингридиенты с разными размерностями нужно считать раздельно!\n",
    "#Результат:\n",
    "#Сыр: 210 гр  \n",
    "#Томаты: 6 шт  \n",
    "#Огурцы: 60 гр  \n",
    "#Маслины: 30 гр  \n",
    "#Оливковое масло: 60 мл  \n",
    "#Салат: 30 гр  \n",
    "#Перец: 60 гр  \n",
    "#Колбаса: 90 гр  \n",
    "#Бекон: 90 гр  \n",
    "#Оливки: 30 гр  \n",
    "#Томаты: 60 гр  \n",
    "#Тесто: 300 гр  \n",
    "#Лимон: 3 шт  \n",
    "#Вода: 600 мл  \n",
    "#Сахар: 30 гр  \n",
    "#Лайм: 60 гр\n",
    "\n",
    "cook_book = {\n",
    "  'салат': [\n",
    "     {'ingridient_name': 'сыр', 'quantity': 50, 'measure': 'гр'},\n",
    "     {'ingridient_name': 'томаты', 'quantity': 2, 'measure': 'шт'},\n",
    "     {'ingridient_name': 'огурцы', 'quantity': 20, 'measure': 'гр'},\n",
    "     {'ingridient_name': 'маслины', 'quantity': 10, 'measure': 'гр'},\n",
    "     {'ingridient_name': 'оливковое масло', 'quantity': 20, 'measure': 'мл'},\n",
    "     {'ingridient_name': 'салат', 'quantity': 10, 'measure': 'гр'},\n",
    "     {'ingridient_name': 'перец', 'quantity': 20, 'measure': 'гр'}\n",
    "    ],\n",
    "  'пицца': [\n",
    "     {'ingridient_name': 'сыр', 'quantity': 20, 'measure': 'гр'},\n",
    "     {'ingridient_name': 'колбаса', 'quantity': 30, 'measure': 'гр'},\n",
    "     {'ingridient_name': 'бекон', 'quantity': 30, 'measure': 'гр'},\n",
    "     {'ingridient_name': 'оливки', 'quantity': 10, 'measure': 'гр'},\n",
    "     {'ingridient_name': 'томаты', 'quantity': 20, 'measure': 'гр'},\n",
    "     {'ingridient_name': 'тесто', 'quantity': 100, 'measure': 'гр'},   \n",
    "    ],\n",
    "  'лимонад': [\n",
    "     {'ingridient_name': 'лимон', 'quantity': 1, 'measure': 'шт'},\n",
    "     {'ingri*--dient_name': 'вода', 'quantity': 200, 'measure': 'мл'},\n",
    "     {'ingridient_name': 'сахар', 'quantity': 10, 'measure': 'гр'},\n",
    "     {'ingridient_name': 'лайм', 'quantity': 20, 'measure': 'гр'},    \n",
    "    ]\n",
    "}\n",
    "print (cook_book.values['quantity'])\n",
    "#l = input('Введите количество порций: ')\n",
    "\n",
    "#cook_book['quantity'] = cook_book['quantity']*l\n",
    "print (cook_book)"
   ]
  },
  {
   "cell_type": "code",
   "execution_count": 11,
   "metadata": {},
   "outputs": [
    {
     "name": "stdout",
     "output_type": "stream",
     "text": [
      "Student Name: Mercy\n",
      "Course: Accounting\n",
      "Age: 23\n"
     ]
    }
   ],
   "source": [
    "dict = {'Name': 'Mercy', 'Age': 23, 'Course': 'Accounting'} \n",
    "print(\"Student Name:\", dict['Name']) \n",
    "print(\"Course:\", dict['Course']) \n",
    "print(\"Age:\", dict['Age'])"
   ]
  },
  {
   "cell_type": "code",
   "execution_count": null,
   "metadata": {},
   "outputs": [],
   "source": []
  }
 ],
 "metadata": {
  "kernelspec": {
   "display_name": "Python 3",
   "language": "python",
   "name": "python3"
  },
  "language_info": {
   "codemirror_mode": {
    "name": "ipython",
    "version": 3
   },
   "file_extension": ".py",
   "mimetype": "text/x-python",
   "name": "python",
   "nbconvert_exporter": "python",
   "pygments_lexer": "ipython3",
   "version": "3.8.5"
  }
 },
 "nbformat": 4,
 "nbformat_minor": 4
}
