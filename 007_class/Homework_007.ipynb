{
 "cells": [
  {
   "cell_type": "markdown",
   "id": "27a1aa9e",
   "metadata": {},
   "source": [
    "## Оглавление\n",
    "1. [Задача 1](#task1)\n",
    "2. [Задача 2](#task2)\n",
    "3. [Задача 3](#task3)"
   ]
  },
  {
   "cell_type": "markdown",
   "id": "c6fb3334",
   "metadata": {},
   "source": [
    "## Задача 1\n",
    "<a id='task1'></a>\n",
    "Напишите функцию, которая возвращает название валюты (поле ‘Name’) с максимальным значением курса с помощью сервиса \n",
    "\n",
    "https://www.cbr-xml-daily.ru/daily_json.js"
   ]
  },
  {
   "cell_type": "markdown",
   "id": "f9c8e5f1",
   "metadata": {},
   "source": [
    "### Задача решена, метод рабочий.\n",
    "### Но мне кажется, очень простой и не элегантный\n",
    "### Подскажите, пожалуйста другие интересеные решения"
   ]
  },
  {
   "cell_type": "code",
   "execution_count": 50,
   "id": "1e9a6df8",
   "metadata": {},
   "outputs": [
    {
     "data": {
      "text/plain": [
       "'СДР (специальные права заимствования)'"
      ]
     },
     "execution_count": 50,
     "metadata": {},
     "output_type": "execute_result"
    }
   ],
   "source": [
    "import requests\n",
    "import json\n",
    "#загрузили данные\n",
    "full_data = requests.get('https://www.cbr-xml-daily.ru/daily_json.js').json()\n",
    "#создаем список из всех значений Name\n",
    "def max_value():\n",
    "    new_list_name = []\n",
    "    for i in full_data['Valute'].values():\n",
    "        new_list_name.append(i['Name'])\n",
    "#создаем список из всех текущих значений валют Value\n",
    "    new_list_value = []\n",
    "    for i in full_data['Valute'].values():\n",
    "        new_list_value.append(i['Value'])\n",
    "# Сливаем два списка в словарь, причем ключи это Value, а значения это Name\n",
    "    value_and_name_dict = dict(zip(new_list_value, new_list_name))\n",
    "# Выводим значение из словаря по максимальному значению из списка текущих значений валют\n",
    "    result = value_and_name_dict[(max(new_list_value))]\n",
    "    return result\n",
    "max_value()"
   ]
  },
  {
   "cell_type": "code",
   "execution_count": null,
   "id": "6d9b9448",
   "metadata": {},
   "outputs": [],
   "source": []
  },
  {
   "cell_type": "markdown",
   "id": "6ba8e54c",
   "metadata": {},
   "source": [
    "## Задача 2\n",
    "<a id='task2'></a>\n",
    "Добавьте в класс Rate параметр diff (со значениями True или False), который в случае значения True в методах курсов валют (eur, usd итд) будет возвращать не курс валюты, а изменение по сравнению в прошлым значением. Считайте, self.diff будет принимать значение True только при возврате значения курса. При отображении всей информации о валюте он не используется."
   ]
  },
  {
   "cell_type": "code",
   "execution_count": 68,
   "id": "36e39028",
   "metadata": {},
   "outputs": [
    {
     "ename": "IndentationError",
     "evalue": "expected an indented block (<ipython-input-68-2a740cbd5762>, line 7)",
     "output_type": "error",
     "traceback": [
      "\u001b[1;36m  File \u001b[1;32m\"<ipython-input-68-2a740cbd5762>\"\u001b[1;36m, line \u001b[1;32m7\u001b[0m\n\u001b[1;33m    def new_param (self, diff):\u001b[0m\n\u001b[1;37m    ^\u001b[0m\n\u001b[1;31mIndentationError\u001b[0m\u001b[1;31m:\u001b[0m expected an indented block\n"
     ]
    }
   ],
   "source": [
    "# Непонятно, что имеется ввиду под фразой: \n",
    "# Считайте, self.diff будет принимать значение True только при возврате значения курса. \n",
    "# При значении True должен возвращать изменение по сравнению с прошлым значением. \n",
    "# Подскажите, пожалуйста, что имеется ввиду и что нужно сделать? \n",
    "class Rate:\n",
    "    def __init__(self):\n",
    "        \n",
    "    def new_param (self, diff):\n",
    "        "
   ]
  },
  {
   "cell_type": "markdown",
   "id": "c2113e73",
   "metadata": {},
   "source": [
    "## Задача 3\n",
    "<a id='task3'></a>\n",
    "Напишите класс Designer, который учитывает количество международных премий для дизайнеров (из презентации: “Повышение на 1 грейд за каждые 7 баллов. Получение международной премии – это +2 балла”). Считайте, что при выходе на работу сотрудник уже имеет две премии и их количество не меняется со стажем (конечно если хотите это можно вручную менять).\n"
   ]
  },
  {
   "cell_type": "code",
   "execution_count": 56,
   "id": "e356af21",
   "metadata": {},
   "outputs": [],
   "source": [
    "# Есть ли какое-то условие для получения международной премии, которое дает +2 балла? \n",
    "# В задаче не могу найти \n",
    "class Employee:\n",
    "    def __init__(self, name, seniority):\n",
    "        self.name = name\n",
    "        self.seniority = seniority\n",
    "        \n",
    "        self.grade = 1\n",
    "    \n",
    "    def grade_up(self):\n",
    "        \"\"\"Повышает уровень сотрудника\"\"\"\n",
    "        self.grade += 1\n",
    "    \n",
    "    def publish_grade(self):\n",
    "        \"\"\"Публикация результатов аккредитации сотрудников\"\"\"\n",
    "        print(self.name, self.grade)\n",
    "    \n",
    "    def check_if_it_is_time_for_upgrade(self):\n",
    "        pass"
   ]
  },
  {
   "cell_type": "code",
   "execution_count": 63,
   "id": "95a124a0",
   "metadata": {},
   "outputs": [],
   "source": [
    "class Designer(Employee):\n",
    "    def __init__(self, name, seniority):\n",
    "        super().__init__(name, seniority)\n",
    "    \n",
    "    def check_if_it_is_time_for_upgrade(self):\n",
    "        # для каждой аккредитации увеличиваем счетчик на 1\n",
    "        # пока считаем, что все разработчики проходят аккредитацию\n",
    "        self.seniority += 1\n",
    "        \n",
    "        # условие повышения сотрудника из презентации\n",
    "        if self.seniority % 7 == 0:\n",
    "            self.grade_up()\n",
    "        \n",
    "        # публикация результатов\n",
    "        return self.publish_grade()"
   ]
  },
  {
   "cell_type": "code",
   "execution_count": 66,
   "id": "748f16ef",
   "metadata": {},
   "outputs": [],
   "source": [
    "alex = Designer('Александр', 2)"
   ]
  },
  {
   "cell_type": "code",
   "execution_count": 67,
   "id": "d12a7e0b",
   "metadata": {},
   "outputs": [
    {
     "name": "stdout",
     "output_type": "stream",
     "text": [
      "Александр 1\n",
      "Александр 1\n",
      "Александр 1\n",
      "Александр 1\n",
      "Александр 2\n",
      "Александр 2\n",
      "Александр 2\n",
      "Александр 2\n",
      "Александр 2\n",
      "Александр 2\n",
      "Александр 2\n",
      "Александр 3\n",
      "Александр 3\n",
      "Александр 3\n",
      "Александр 3\n",
      "Александр 3\n",
      "Александр 3\n",
      "Александр 3\n",
      "Александр 4\n",
      "Александр 4\n"
     ]
    }
   ],
   "source": [
    "for i in range(20):\n",
    "    alex.check_if_it_is_time_for_upgrade()"
   ]
  },
  {
   "cell_type": "code",
   "execution_count": null,
   "id": "dfa005f0",
   "metadata": {},
   "outputs": [],
   "source": []
  }
 ],
 "metadata": {
  "kernelspec": {
   "display_name": "Python 3",
   "language": "python",
   "name": "python3"
  },
  "language_info": {
   "codemirror_mode": {
    "name": "ipython",
    "version": 3
   },
   "file_extension": ".py",
   "mimetype": "text/x-python",
   "name": "python",
   "nbconvert_exporter": "python",
   "pygments_lexer": "ipython3",
   "version": "3.8.8"
  }
 },
 "nbformat": 4,
 "nbformat_minor": 5
}
