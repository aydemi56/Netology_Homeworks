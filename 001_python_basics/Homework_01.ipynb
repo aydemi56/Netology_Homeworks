{
 "cells": [
  {
   "cell_type": "code",
   "execution_count": 2,
   "metadata": {},
   "outputs": [
    {
     "name": "stdout",
     "output_type": "stream",
     "text": [
      "Фраза 2 длиннее фразы 1\n"
     ]
    }
   ],
   "source": [
    "# Задание 1\n",
    "phrase_1 = 'Насколько проще было бы писать программы, если бы не заказчики'\n",
    "phrase_2 = '640Кб должно хватить для любых задач. Билл Гейтс (по легенде)2222'\n",
    "if len(phrase_1) > len(phrase_2):\n",
    "    print ('Фраза 1 длиннее фразы 2')\n",
    "elif len(phrase_1) < len(phrase_2):\n",
    "    print ('Фраза 2 длиннее фразы 1')\n",
    "else:\n",
    "    print ('Фразы равной длины')"
   ]
  },
  {
   "cell_type": "code",
   "execution_count": 3,
   "metadata": {},
   "outputs": [
    {
     "name": "stdout",
     "output_type": "stream",
     "text": [
      "Обычный год\n"
     ]
    }
   ],
   "source": [
    "#Задание 2\n",
    "year = 2001\n",
    "if year % 4 == 0: \n",
    "    print ('Високосный год')\n",
    "else:\n",
    "    print ('Обычный год')"
   ]
  },
  {
   "cell_type": "code",
   "execution_count": 1,
   "metadata": {},
   "outputs": [
    {
     "name": "stdout",
     "output_type": "stream",
     "text": [
      "Введи дату своего рождения: 4\n",
      "Введи месяц своего рождения: 3\n",
      "Рыбы\n"
     ]
    }
   ],
   "source": [
    "#Задание 3\n",
    "date = int(input ('Введи дату своего рождения: '))\n",
    "month = int(input ('Введи месяц своего рождения: '))\n",
    "if (date>=20 and date<=31 and month==1) or (date>=1 and date<=19 and month==2):\n",
    "    print ('Водолей')\n",
    "elif (date>=20 and date<=29 and month==2) or (date>=1 and date<=20 and month==3):\n",
    "    print ('Рыбы')\n",
    "elif (date>=21 and date<=31 and month==3) or (date>=1 and date<=19 and month==4):\n",
    "    print ('Овен')\n",
    "elif (date>=20 and date<=30 and month==4) or (date>=1 and date<=20 and month==5):\n",
    "    print ('Телец')\n",
    "elif (date>=21 and date<=31 and month==5) or (date>=1 and date<=20 and month==6):\n",
    "    print ('Близнецы')\n",
    "elif (date>=21 and date<=30 and month==6) or (date>=1 and date<=22 and month==7):\n",
    "    print ('Рак')\n",
    "elif (date>=23 and date<=31 and month==7) or (date>=1 and date<=22 and month==8):\n",
    "    print ('Лев')\n",
    "elif (date>=23 and date<=31 and month==8) or (date>=1 and date<=22 and month==9):\n",
    "    print ('Дева')\n",
    "elif (date>=23 and date<=30 and month==9) or (date>=1 and date<=23 and month==10):\n",
    "    print ('Весы')\n",
    "elif (date>=24 and date<=31 and month==10) or (date>=1 and date<=22 and month==11):\n",
    "    print ('Скорпион')\n",
    "elif (date>=23 and date<=30 and month==11) or (date>=1 and date<=21 and month==12):\n",
    "    print ('Стрелец')\n",
    "elif (date>=21 and date<=31 and month==12) or (date>=1 and date<=19 and month==1):\n",
    "    print ('Козерог')\n",
    "else:\n",
    "    print ('Неправльно введены даты')\n",
    "   "
   ]
  },
  {
   "cell_type": "code",
   "execution_count": 2,
   "metadata": {},
   "outputs": [
    {
     "name": "stdout",
     "output_type": "stream",
     "text": [
      "Введи ширину коробки в см: 15\n",
      "Введи длину коробки в см: 15\n",
      "Введи высоту коробки в см: 18\n",
      "Коробка №2\n"
     ]
    }
   ],
   "source": [
    "#Задание 4\n",
    "width = input ('Введи ширину коробки в см: ')\n",
    "length = input ('Введи длину коробки в см: ')\n",
    "height = input ('Введи высоту коробки в см: ')\n",
    "if (int(width)<15 and int(length)<15 and int(height)<15):\n",
    "    print ('Коробка №1')\n",
    "elif (int(width)>=15 or (int(length)>=15 and int(length)<=200) or int(height)>=15):\n",
    "    print ('Коробка №2')\n",
    "elif (int(length)>200):\n",
    "    print ('Упаковка для лыж')\n",
    "else: \n",
    "    print ('Стандартная коробка №3')"
   ]
  },
  {
   "cell_type": "code",
   "execution_count": 20,
   "metadata": {},
   "outputs": [
    {
     "name": "stdout",
     "output_type": "stream",
     "text": [
      "Введите номер билета (6 цифр): 456654\n",
      "15\n",
      "15\n",
      "Ура! Счастливый билет\n"
     ]
    }
   ],
   "source": [
    "#Задание 5\n",
    "ticket = input ('Введите номер билета (6 цифр): ')\n",
    "a = int(ticket[0]) + int(ticket[1]) + int(ticket[2])\n",
    "b = int(ticket[3]) + int(ticket[4]) + int(ticket[5])\n",
    "print (a)\n",
    "print (b)\n",
    "if a == b:\n",
    "    print ('Ура! Счастливый билет')\n",
    "else: \n",
    "    print ('Несчастливый билет')"
   ]
  },
  {
   "cell_type": "code",
   "execution_count": 31,
   "metadata": {},
   "outputs": [
    {
     "name": "stdout",
     "output_type": "stream",
     "text": [
      "Введите форму фигуры \\(круг, треугольник или прямоугольник): круг\n",
      "Введите радиус фигуры \\(см): 2\n",
      "Площадь круга: 4\n"
     ]
    }
   ],
   "source": [
    "#Задание 6\n",
    "from math import sqrt\n",
    "object = input ('Введите форму фигуры \\(круг, треугольник или прямоугольник): ')\n",
    "if object == ('круг'):\n",
    "    radius = int(input ('Введите радиус фигуры \\(см): '))\n",
    "    square_kr = radius * radius\n",
    "    print ('Площадь круга: ' + str(square_kr))\n",
    "elif object == ('треугольник'):\n",
    "    a = int(input ('Введите 1 сторону треугольника (см): '))\n",
    "    b = int(input ('Введите 2 сторону треугольника (см): '))\n",
    "    c = int(input ('Введите 3 сторону треугольника (см): '))\n",
    "    p = ((a + b + c) / 2)\n",
    "    square_tr = sqrt (p*(p-a)*(p-b)*(p-c))\n",
    "    print ('Площадь треугольника: ' + str(square_tr))\n",
    "elif object == ('прямоугольник'):\n",
    "    a = int(input ('Введите 1 сторону прямоугольника (см): '))\n",
    "    b = int(input ('Введите 1 сторону прямоугольника (см): '))    \n",
    "    square_pr = a*b\n",
    "    print ('Площадь треугольника: ' + str(square_pr))"
   ]
  }
 ],
 "metadata": {
  "kernelspec": {
   "display_name": "Python 3",
   "language": "python",
   "name": "python3"
  },
  "language_info": {
   "codemirror_mode": {
    "name": "ipython",
    "version": 3
   },
   "file_extension": ".py",
   "mimetype": "text/x-python",
   "name": "python",
   "nbconvert_exporter": "python",
   "pygments_lexer": "ipython3",
   "version": "3.8.5"
  }
 },
 "nbformat": 4,
 "nbformat_minor": 4
}
