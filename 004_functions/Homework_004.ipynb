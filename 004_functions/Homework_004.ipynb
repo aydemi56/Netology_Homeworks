{
 "cells": [
  {
   "cell_type": "markdown",
   "id": "84c7a4ee",
   "metadata": {},
   "source": [
    "### Оглавление\n",
    "1. [Задача 1](#task1)\n",
    "2. [Задача 2](#task2)\n",
    "3. [Задача 3](#task3)\n",
    "4. [Задача 4](#task4)\n",
    "5. [Задача 5](#task5)"
   ]
  },
  {
   "cell_type": "code",
   "execution_count": 17,
   "id": "b0fa6d87",
   "metadata": {},
   "outputs": [
    {
     "name": "stdout",
     "output_type": "stream",
     "text": [
      "[]\n"
     ]
    }
   ],
   "source": [
    "documents = [\n",
    " {'type': 'passport', 'number': '2207 876234', 'name': 'Василий Гупкин'},\n",
    " {'type': 'invoice', 'number': '11-2', 'name': 'Геннадий Покемонов'},\n",
    " {'type': 'insurance', 'number': '10006', 'name': 'Аристарх Павлов'}\n",
    "]\n",
    "directories = {\n",
    " '1': ['2207 876234', '11-2'],\n",
    " '2': ['10006'],\n",
    " '3': []\n",
    "}\n"
   ]
  },
  {
   "cell_type": "markdown",
   "id": "49da3e34",
   "metadata": {},
   "source": [
    "## Команды\n",
    "Отсюда можно запустить любую команду"
   ]
  },
  {
   "cell_type": "code",
   "execution_count": 24,
   "id": "77a883ef",
   "metadata": {},
   "outputs": [
    {
     "name": "stdout",
     "output_type": "stream",
     "text": [
      "Введите команду: ds\n",
      "Введите номер полки: 2\n",
      "На полке есть документа, удалите их перед удалением полки. Текущий перечень полок:  ['1', '2', '3']\n",
      "None\n"
     ]
    }
   ],
   "source": [
    "user_input = input('Введите команду: ')\n",
    "if user_input == 'p':\n",
    "    print (find_docs())\n",
    "if user_input == 's':\n",
    "    print (find_shelf())\n",
    "if user_input == 'l':\n",
    "    print (find_all())\n",
    "if user_input == 'ads':\n",
    "    print (find_shelf_3())\n",
    "if user_input == 'ds':\n",
    "    print (shelf_delete())"
   ]
  },
  {
   "cell_type": "markdown",
   "id": "5667d1ae",
   "metadata": {},
   "source": [
    "## Задача 1\n",
    "<a id='task1'></a>\n",
    "Пункт 1. Пользователь по команде \"p\" может узнать владельца документа по его номеру"
   ]
  },
  {
   "cell_type": "code",
   "execution_count": 15,
   "id": "2ac6c60b",
   "metadata": {},
   "outputs": [
    {
     "name": "stdout",
     "output_type": "stream",
     "text": [
      "Введите номер документа: 1\n",
      "Документ не найден в базе\n"
     ]
    }
   ],
   "source": [
    "def find_docs():\n",
    "    doc_number = input('Введите номер документа: ')\n",
    "    for docs in documents:\n",
    "        if doc_number == docs['number']:\n",
    "            result = ('Владелец документа: ' + docs['name'])\n",
    "            return result\n",
    "    else:\n",
    "        result = ('Документ не найден в базе')\n",
    "        return result\n",
    "print (find_docs())"
   ]
  },
  {
   "cell_type": "markdown",
   "id": "2eccda10",
   "metadata": {},
   "source": [
    "## Задача 2\n",
    "<a id='task2'></a>\n",
    "Пункт 2. Пользователь по команде \"s\" может по номеру документа узнать на какой полке он хранится"
   ]
  },
  {
   "cell_type": "code",
   "execution_count": 16,
   "id": "5e536770",
   "metadata": {},
   "outputs": [
    {
     "name": "stdout",
     "output_type": "stream",
     "text": [
      "Введите номер документа: 2\n",
      "Документ не найден в базе\n"
     ]
    }
   ],
   "source": [
    "def find_shelf():\n",
    "    doc_number_2 = input('Введите номер документа: ')\n",
    "    for docs in directories.items():\n",
    "        if doc_number_2 in docs[1]:\n",
    "            result = ('Документ хранится на полке: ' + docs[0])\n",
    "            return result\n",
    "    else:\n",
    "        result = ('Документ не найден в базе')\n",
    "        return result           \n",
    "print (find_shelf())"
   ]
  },
  {
   "cell_type": "markdown",
   "id": "72f233ec",
   "metadata": {},
   "source": [
    "## Задача 3\n",
    "<a id='task3'></a>\n",
    "Пункт 3. Пользователь по команде \"l\" может увидеть полную информацию по всем документам"
   ]
  },
  {
   "cell_type": "code",
   "execution_count": 19,
   "id": "d54293ee",
   "metadata": {},
   "outputs": [],
   "source": [
    "#создаем отдельную функцию, чтобы выводить номер полки при выводе всех документов\n",
    "def find_shelf_2(number_1):\n",
    "    for docs in directories.items():\n",
    "        if number_1 in docs[1]:\n",
    "            result = docs[0]\n",
    "            return result\n",
    "    else:\n",
    "        result = ('Документ не найден в базе')\n",
    "        return result   \n",
    "            "
   ]
  },
  {
   "cell_type": "code",
   "execution_count": 20,
   "id": "fc251455",
   "metadata": {},
   "outputs": [
    {
     "data": {
      "text/plain": [
       "['№ 2207 876234, тип: passport, владелец: Василий Гупкин, полка хранения: 1',\n",
       " '№ 11-2, тип: invoice, владелец: Геннадий Покемонов, полка хранения: 1',\n",
       " '№ 10006, тип: insurance, владелец: Аристарх Павлов, полка хранения: 2']"
      ]
     },
     "execution_count": 20,
     "metadata": {},
     "output_type": "execute_result"
    }
   ],
   "source": [
    "# функция вывода всех документов\n",
    "def find_all():\n",
    "    list_new_3 = []\n",
    "    for docs in documents:\n",
    "        list_new_3.append('№ '+docs['number']+', тип: '+docs['type']+', владелец: '+docs['name']+', полка хранения: '+find_shelf_2(docs['number']))\n",
    "    result = list_new_3\n",
    "    return result\n",
    "find_all()"
   ]
  },
  {
   "cell_type": "markdown",
   "id": "df227ced",
   "metadata": {},
   "source": [
    "## Задача 4\n",
    "<a id='task4'></a>\n",
    "Пункт 4. Пользователь по команде \"ads\" может добавить новую полку"
   ]
  },
  {
   "cell_type": "code",
   "execution_count": 21,
   "id": "d004e50e",
   "metadata": {},
   "outputs": [
    {
     "name": "stdout",
     "output_type": "stream",
     "text": [
      "Введите номер полки: 2\n",
      "Такая полка уже существует. Текущий перечень полок:  ['1', '2', '3']\n"
     ]
    }
   ],
   "source": [
    "# создаем функцию, чтобы найти есть ли значение в директориях\n",
    "# Если есть такая полка присваиваем 1\n",
    "# Если нет, присваиваем 2\n",
    "\n",
    "def find_shelf_3():\n",
    "    doc_number_5 = input('Введите номер полки: ')\n",
    "    for docs in directories.items():\n",
    "        if doc_number_5 in docs[0]:\n",
    "            result = 1\n",
    "            return result\n",
    "    else:\n",
    "        result = 2\n",
    "        return result           \n",
    "\n",
    "# Создаем текущий список полок\n",
    "new_list_8 = []\n",
    "for el in directories:\n",
    "    new_list_8.append(el[0])\n",
    "\n",
    "# Если 1 в функции выше, то добавляем в список новое значение\n",
    "# Если 2 в функции выше, то выводим текущий список\n",
    "if find_shelf_3() == 2:\n",
    "    directories.setdefault(doc_number_5,) \n",
    "    new_list_8.append(doc_number_5)\n",
    "    print ('Полка добавлена. Текущий перечень полок: ', new_list_8)\n",
    "else:\n",
    "    print ('Такая полка уже существует. Текущий перечень полок: ', new_list_8)"
   ]
  },
  {
   "cell_type": "markdown",
   "id": "cca6f95c",
   "metadata": {},
   "source": [
    "## Задача 5\n",
    "<a id='task5'></a>\n",
    "Пункт 5. Пользователь по команде \"ds\" может удалить существующую полку из данных (только если она пустая)"
   ]
  },
  {
   "cell_type": "code",
   "execution_count": 22,
   "id": "8b7a1875",
   "metadata": {},
   "outputs": [
    {
     "name": "stdout",
     "output_type": "stream",
     "text": [
      "Введите номер полки: 2\n",
      "На полке есть документа, удалите их перед удалением полки. Текущий перечень полок:  ['1', '2', '3']\n"
     ]
    }
   ],
   "source": [
    "\n",
    "\n",
    "# Создаем текущий список полок\n",
    "new_list_9 = []\n",
    "for el in directories:\n",
    "    new_list_9.append(el[0])\n",
    "#print (new_list_9) \n",
    "\n",
    "#Создаем функцию, которая ищет есть ли значение в списке полок сейчас, если есть проверка\n",
    "#Если нет, пишем коммент, что нет\n",
    "def shelf_delete():\n",
    "    doc_number_6 = input('Введите номер полки: ')\n",
    "    if doc_number_6 in new_list_9: \n",
    "        if directories[doc_number_6] == None: #Почему-то не работает через None, нужно как-то по-другому сделать? \n",
    "            del(directories[doc_number_6]) \n",
    "            print ('Полка удалена. Текущий перечень полок: ', new_list_9)\n",
    "        else:\n",
    "            print ('На полке есть документа, удалите их перед удалением полки. Текущий перечень полок: ', new_list_9)\n",
    "    else:\n",
    "        print ('Такой полки не существует. Текущий перечень полок: ', new_list_9)\n",
    "shelf_delete()"
   ]
  },
  {
   "cell_type": "markdown",
   "id": "de0f118b",
   "metadata": {},
   "source": [
    "### Задача 2.1 ДОП"
   ]
  },
  {
   "cell_type": "code",
   "execution_count": 26,
   "id": "ab58daaf",
   "metadata": {},
   "outputs": [
    {
     "name": "stdout",
     "output_type": "stream",
     "text": [
      "[{'type': 'passport', 'number': '2207 876234', 'name': 'Василий Гупкин'}, {'type': 'invoice', 'number': '11-2', 'name': 'Геннадий Покемонов'}, {'type': 'insurance', 'number': '10006', 'name': 'Аристарх Павлов'}, {'type': '1', 'number': '2', 'name': '3'}]\n"
     ]
    }
   ],
   "source": [
    "# К сожалению не успел сделать доп задания, если можно потом поделиться решениями, буду благодарен\n",
    "documents = [\n",
    " {'type': 'passport', 'number': '2207 876234', 'name': 'Василий Гупкин'},\n",
    " {'type': 'invoice', 'number': '11-2', 'name': 'Геннадий Покемонов'},\n",
    " {'type': 'insurance', 'number': '10006', 'name': 'Аристарх Павлов'}\n",
    "]\n",
    "documents.append({'type':'1','number':'2','name':'3'})\n",
    "print (documents)"
   ]
  },
  {
   "cell_type": "code",
   "execution_count": null,
   "id": "d0f33f01",
   "metadata": {},
   "outputs": [],
   "source": [
    "'type': 'passport', 'number': '2207 876234', 'name': 'Василий Гупкин'\n",
    "def ad_function():\n",
    "    number_new = input('Введите номер документа: ')\n",
    "    type_new = input('Введите тип документа: ')\n",
    "    owner_new = input('Введите владельца документа: ')\n",
    "    shelf_new_new_new = input('Введите полку для хранения: ')"
   ]
  }
 ],
 "metadata": {
  "kernelspec": {
   "display_name": "Python 3",
   "language": "python",
   "name": "python3"
  },
  "language_info": {
   "codemirror_mode": {
    "name": "ipython",
    "version": 3
   },
   "file_extension": ".py",
   "mimetype": "text/x-python",
   "name": "python",
   "nbconvert_exporter": "python",
   "pygments_lexer": "ipython3",
   "version": "3.8.8"
  }
 },
 "nbformat": 4,
 "nbformat_minor": 5
}
