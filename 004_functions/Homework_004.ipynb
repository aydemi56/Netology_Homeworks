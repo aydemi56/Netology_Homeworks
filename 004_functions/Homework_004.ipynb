{
 "cells": [
  {
   "cell_type": "markdown",
   "id": "84c7a4ee",
   "metadata": {},
   "source": [
    "### Оглавление\n",
    "1. [Задача 1](#task1)\n",
    "2. [Задача 2](#task2)\n",
    "3. [Задача 3](#task3)\n",
    "4. [Задача 4](#task4)\n",
    "5. [Задача 5](#task5)"
   ]
  },
  {
   "cell_type": "code",
   "execution_count": 32,
   "id": "b0fa6d87",
   "metadata": {},
   "outputs": [],
   "source": [
    "documents = [\n",
    " {'type': 'passport', 'number': '2207 876234', 'name': 'Василий Гупкин'},\n",
    " {'type': 'invoice', 'number': '11-2', 'name': 'Геннадий Покемонов'},\n",
    " {'type': 'insurance', 'number': '10006', 'name': 'Аристарх Павлов'}\n",
    "]\n",
    "directories = {\n",
    " '1': ['2207 876234', '11-2'],\n",
    " '2': ['10006'],\n",
    " '3': []\n",
    "}\n"
   ]
  },
  {
   "cell_type": "code",
   "execution_count": 34,
   "id": "4c29a68a",
   "metadata": {},
   "outputs": [
    {
     "name": "stdout",
     "output_type": "stream",
     "text": [
      "['2207 876234', '11-2']\n"
     ]
    }
   ],
   "source": [
    "print (directories['1'])"
   ]
  },
  {
   "cell_type": "markdown",
   "id": "49da3e34",
   "metadata": {},
   "source": [
    "## Команды\n",
    "Отсюда можно запустить любую команду"
   ]
  },
  {
   "cell_type": "code",
   "execution_count": 24,
   "id": "77a883ef",
   "metadata": {},
   "outputs": [
    {
     "name": "stdout",
     "output_type": "stream",
     "text": [
      "Введите команду: ds\n",
      "Введите номер полки: 2\n",
      "На полке есть документа, удалите их перед удалением полки. Текущий перечень полок:  ['1', '2', '3']\n",
      "None\n"
     ]
    }
   ],
   "source": []
  },
  {
   "cell_type": "markdown",
   "id": "5667d1ae",
   "metadata": {},
   "source": [
    "## Задача 1\n",
    "<a id='task1'></a>\n",
    "Пункт 1. Пользователь по команде \"p\" может узнать владельца документа по его номеру"
   ]
  },
  {
   "cell_type": "code",
   "execution_count": 23,
   "id": "2ac6c60b",
   "metadata": {},
   "outputs": [
    {
     "name": "stdout",
     "output_type": "stream",
     "text": [
      "Введите номер документа: 1\n",
      "Документ не найден в базе\n"
     ]
    }
   ],
   "source": [
    "def find_docs():\n",
    "    doc_number = input('Введите номер документа: ')\n",
    "    for docs in documents:\n",
    "        if doc_number == docs['number']:\n",
    "            result = ('Владелец документа: ' + docs['name'])\n",
    "            return result\n",
    "    else:\n",
    "        result = ('Документ не найден в базе')\n",
    "        return result\n",
    "print (find_docs())"
   ]
  },
  {
   "cell_type": "markdown",
   "id": "2eccda10",
   "metadata": {},
   "source": [
    "## Задача 2\n",
    "<a id='task2'></a>\n",
    "Пункт 2. Пользователь по команде \"s\" может по номеру документа узнать на какой полке он хранится"
   ]
  },
  {
   "cell_type": "code",
   "execution_count": 22,
   "id": "5e536770",
   "metadata": {},
   "outputs": [
    {
     "name": "stdout",
     "output_type": "stream",
     "text": [
      "Введите номер документа: 1\n",
      "Документ не найден в базе\n"
     ]
    }
   ],
   "source": [
    "def find_shelf():\n",
    "    doc_number_2 = input('Введите номер документа: ')\n",
    "    for docs in directories.items():\n",
    "        if doc_number_2 in docs[1]:\n",
    "            result = ('Документ хранится на полке: ' + docs[0])\n",
    "            return result\n",
    "    else:\n",
    "        result = ('Документ не найден в базе')\n",
    "        return result           \n",
    "print (find_shelf())"
   ]
  },
  {
   "cell_type": "markdown",
   "id": "72f233ec",
   "metadata": {},
   "source": [
    "## Задача 3\n",
    "<a id='task3'></a>\n",
    "Пункт 3. Пользователь по команде \"l\" может увидеть полную информацию по всем документам"
   ]
  },
  {
   "cell_type": "code",
   "execution_count": 20,
   "id": "d54293ee",
   "metadata": {},
   "outputs": [],
   "source": [
    "#создаем отдельную функцию, чтобы выводить номер полки при выводе всех документов\n",
    "def find_shelf_2(number_1):\n",
    "    for docs in directories.items():\n",
    "        if number_1 in docs[1]:\n",
    "            result = docs[0]\n",
    "            return result\n",
    "    else:\n",
    "        result = ('Документ не найден в базе')\n",
    "        return result   \n",
    "            "
   ]
  },
  {
   "cell_type": "code",
   "execution_count": 21,
   "id": "fc251455",
   "metadata": {},
   "outputs": [
    {
     "name": "stdout",
     "output_type": "stream",
     "text": [
      "№ 2207 876234, тип: passport, владелец: Василий Гупкин, полка хранения: 1\n",
      "№ 11-2, тип: invoice, владелец: Геннадий Покемонов, полка хранения: 1\n",
      "№ 10006, тип: insurance, владелец: Аристарх Павлов, полка хранения: 2\n"
     ]
    }
   ],
   "source": [
    "# функция вывода всех документов\n",
    "def find_all():\n",
    "    list_new_3 = []\n",
    "    for docs in documents:\n",
    "        list_new_3.append('№ '+docs['number']+', тип: '+docs['type']+', владелец: '+docs['name']+', полка хранения: '+(find_shelf_2(docs['number'])))\n",
    "    result = list_new_3\n",
    "    return result\n",
    "print ('\\n'.join(find_all()))"
   ]
  },
  {
   "cell_type": "markdown",
   "id": "df227ced",
   "metadata": {},
   "source": [
    "## Задача 4\n",
    "<a id='task4'></a>\n",
    "Пункт 4. Пользователь по команде \"ads\" может добавить новую полку"
   ]
  },
  {
   "cell_type": "code",
   "execution_count": 38,
   "id": "21cfa68e",
   "metadata": {},
   "outputs": [
    {
     "name": "stdout",
     "output_type": "stream",
     "text": [
      "Введите номер полки: 236\n",
      "Полка добавлена. Текущий перечень полок:  dict_keys(['1', '2', '3', '236'])\n",
      "None\n"
     ]
    }
   ],
   "source": [
    "def shelf_ads():\n",
    "    doc_number_5 = input('Введите номер полки: ')\n",
    "    for docs in directories.items():\n",
    "        if doc_number_5 in docs[0]:\n",
    "            result = print('Такая полка уже существует. Текущий перечень полок: ', directories.keys())\n",
    "            return result\n",
    "    else:\n",
    "        directories.setdefault(doc_number_5)\n",
    "        result = print('Полка добавлена. Текущий перечень полок: ', (directories.keys()))\n",
    "        return result  \n",
    "print (shelf_ads())\n",
    "# Почему-то выводит еще None в конце? \n",
    "# Не знаю как вывести без dict_keys и без кучи скобок"
   ]
  },
  {
   "cell_type": "code",
   "execution_count": null,
   "id": "befc5bed",
   "metadata": {},
   "outputs": [],
   "source": []
  },
  {
   "cell_type": "markdown",
   "id": "cca6f95c",
   "metadata": {},
   "source": [
    "## Задача 5\n",
    "<a id='task5'></a>\n",
    "Пункт 5. Пользователь по команде \"ds\" может удалить существующую полку из данных (только если она пустая)"
   ]
  },
  {
   "cell_type": "code",
   "execution_count": 42,
   "id": "6a5bc60c",
   "metadata": {},
   "outputs": [
    {
     "name": "stdout",
     "output_type": "stream",
     "text": [
      "dict_items([('1', ['2207 876234', '11-2']), ('2', ['10006']), ('3', [])])\n",
      "Введите номер полки: 3\n",
      "Полка удалена. Текущий перечень полок:  dict_keys(['1', '2'])\n",
      "None\n"
     ]
    }
   ],
   "source": [
    "def shelf_delete():\n",
    "    doc_number_6 = input('Введите номер полки: ')\n",
    "    if doc_number_6 in directories.keys():\n",
    "        if directories[doc_number_6] == []:\n",
    "            del(directories[doc_number_6])\n",
    "            result = print ('Полка удалена. Текущий перечень полок: ', (directories.keys()))\n",
    "            return result\n",
    "        else:\n",
    "            result = print ('На полке есть документы, удалите их перед удалением полки. Текущий перечень полок: ', (directories.keys()))\n",
    "            return result\n",
    "    else:\n",
    "        result = print ('Такой полки не существует. Текущий перечень полок: ', (directories.keys()))\n",
    "        return result\n",
    "print(shelf_delete())        \n",
    "        \n",
    "        "
   ]
  },
  {
   "cell_type": "markdown",
   "id": "dae0f2a2",
   "metadata": {},
   "source": [
    "# Финальный блок кода"
   ]
  },
  {
   "cell_type": "code",
   "execution_count": 25,
   "id": "6393b475",
   "metadata": {},
   "outputs": [
    {
     "name": "stdout",
     "output_type": "stream",
     "text": [
      "Введите команду: sdf\n",
      "Введите команду из списка: = p,s,l,ads,ds\n"
     ]
    }
   ],
   "source": [
    "user_input = input('Введите команду: ')\n",
    "if user_input == 'p':\n",
    "    print (find_docs())\n",
    "elif user_input == 's':\n",
    "    print (find_shelf())\n",
    "elif user_input == 'l':\n",
    "    print (find_all())\n",
    "elif user_input == 'ads':\n",
    "    print (shelf_ads())\n",
    "elif user_input == 'ds':\n",
    "    print (shelf_delete())\n",
    "else:\n",
    "    print('Введите команду из списка: = p,s,l,ads,ds')"
   ]
  },
  {
   "cell_type": "markdown",
   "id": "de0f118b",
   "metadata": {},
   "source": [
    "### Задача 2.1 ДОП"
   ]
  },
  {
   "cell_type": "code",
   "execution_count": 26,
   "id": "ab58daaf",
   "metadata": {},
   "outputs": [
    {
     "name": "stdout",
     "output_type": "stream",
     "text": [
      "[{'type': 'passport', 'number': '2207 876234', 'name': 'Василий Гупкин'}, {'type': 'invoice', 'number': '11-2', 'name': 'Геннадий Покемонов'}, {'type': 'insurance', 'number': '10006', 'name': 'Аристарх Павлов'}, {'type': '1', 'number': '2', 'name': '3'}]\n"
     ]
    }
   ],
   "source": [
    "# К сожалению не успел сделать доп задания, если можно потом поделиться решениями, буду благодарен\n",
    "documents = [\n",
    " {'type': 'passport', 'number': '2207 876234', 'name': 'Василий Гупкин'},\n",
    " {'type': 'invoice', 'number': '11-2', 'name': 'Геннадий Покемонов'},\n",
    " {'type': 'insurance', 'number': '10006', 'name': 'Аристарх Павлов'}\n",
    "]\n",
    "documents.append({'type':'1','number':'2','name':'3'})\n",
    "print (documents)"
   ]
  },
  {
   "cell_type": "code",
   "execution_count": null,
   "id": "d0f33f01",
   "metadata": {},
   "outputs": [],
   "source": [
    "'type': 'passport', 'number': '2207 876234', 'name': 'Василий Гупкин'\n",
    "def ad_function():\n",
    "    number_new = input('Введите номер документа: ')\n",
    "    type_new = input('Введите тип документа: ')\n",
    "    owner_new = input('Введите владельца документа: ')\n",
    "    shelf_new_new_new = input('Введите полку для хранения: ')"
   ]
  }
 ],
 "metadata": {
  "kernelspec": {
   "display_name": "Python 3",
   "language": "python",
   "name": "python3"
  },
  "language_info": {
   "codemirror_mode": {
    "name": "ipython",
    "version": 3
   },
   "file_extension": ".py",
   "mimetype": "text/x-python",
   "name": "python",
   "nbconvert_exporter": "python",
   "pygments_lexer": "ipython3",
   "version": "3.8.8"
  }
 },
 "nbformat": 4,
 "nbformat_minor": 5
}
