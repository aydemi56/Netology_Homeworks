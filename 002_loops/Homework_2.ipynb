{
 "cells": [
  {
   "cell_type": "code",
   "execution_count": 19,
   "metadata": {},
   "outputs": [
    {
     "name": "stdout",
     "output_type": "stream",
     "text": [
      "Напишите слово на английском языке: test\n",
      "es\n"
     ]
    }
   ],
   "source": [
    "# Задание №1\n",
    "word = input ('Напишите слово на английском языке: ')\n",
    "if int(len(word)) % 2 == 0:\n",
    "    print (word[int((len(word) / 2)-1)] + word[int(len(word)/2)])\n",
    "else:\n",
    "    print (word[int(len(word) / 2)])   \n",
    "    "
   ]
  },
  {
   "cell_type": "code",
   "execution_count": 6,
   "metadata": {},
   "outputs": [
    {
     "name": "stdout",
     "output_type": "stream",
     "text": [
      "Введите число: 1\n",
      "1\n",
      "Введите число: 2\n",
      "2\n",
      "Введите число: 3\n",
      "3\n",
      "Введите число: 0\n",
      "Результат: 6\n"
     ]
    }
   ],
   "source": [
    "# Задание №2\n",
    "number = int(input ('Введите число: '))\n",
    "summa = 0\n",
    "while number != 0:\n",
    "    print (number)\n",
    "    summa += number\n",
    "    number = int(input ('Введите число: '))\n",
    "print ('Результат: ' + str(summa))"
   ]
  },
  {
   "cell_type": "code",
   "execution_count": 1,
   "metadata": {},
   "outputs": [
    {
     "name": "stdout",
     "output_type": "stream",
     "text": [
      "Идеальные пары:\n",
      "Alex и Emma\n",
      "Arthur и Kate\n",
      "John и Kira\n",
      "Peter и Liza\n",
      "Richard и Trisha\n"
     ]
    }
   ],
   "source": [
    "# Задание №3\n",
    "boys = ['Peter', 'Alex', 'John', 'Arthur', 'Richard']\n",
    "girls = ['Kate', 'Liza', 'Kira', 'Emma', 'Trisha']\n",
    "boys.sort()\n",
    "girls.sort()\n",
    "null = 0\n",
    "if len(boys) == len(girls):\n",
    "    print ('Идеальные пары:')\n",
    "    while null != len(boys):\n",
    "        print ((boys[null]) + ' и ' + (girls[null]))\n",
    "        null+=1  \n",
    "else:\n",
    "    print ('Внимание, кто-то может остаться без пары!')\n"
   ]
  },
  {
   "cell_type": "code",
   "execution_count": 3,
   "metadata": {},
   "outputs": [
    {
     "name": "stdout",
     "output_type": "stream",
     "text": [
      "Thailand - 24 C\n",
      "Germany - 14 C\n",
      "Russia - 4 C\n",
      "Poland - 12 C\n"
     ]
    }
   ],
   "source": [
    "# Задание №4\n",
    "countries_temperature = [\n",
    "    ['Thailand', [75.2, 77, 78.8, 73.4, 68, 75.2, 77]],\n",
    "    ['Germany', [57.2, 55.4, 59, 59, 53.6]],\n",
    "    ['Russia', [35.6, 37.4, 39.2, 41, 42.8, 39.2, 35.6]],\n",
    "    ['Poland', [50, 50, 53.6, 57.2, 55.4, 55.4]]\n",
    "]\n",
    "for i in countries_temperature:\n",
    "    print(i[0], '-', round((sum(i[1]) / len(i[1]) - 32) / 1.8), 'C')\n",
    "\n",
    "    "
   ]
  },
  {
   "cell_type": "code",
   "execution_count": 172,
   "metadata": {},
   "outputs": [
    {
     "name": "stdout",
     "output_type": "stream",
     "text": [
      "7.75\n"
     ]
    }
   ],
   "source": [
    "#Задание5\n",
    "stream = [\n",
    "    '2018-01-01,user1,3',\n",
    "    '2018-01-07,user1,4',\n",
    "    '2018-03-29,user1,1',\n",
    "    '2018-04-04,user1,13',\n",
    "    '2018-01-05,user2,7',\n",
    "    '2018-06-14,user3,4',\n",
    "    '2018-07-02,user3,10',\n",
    "    '2018-03-21,user4,19',\n",
    "    '2018-03-22,user4,4',\n",
    "    '2018-04-22,user4,8',\n",
    "    '2018-05-03,user4,9',\n",
    "    '2018-05-11,user4,11',\n",
    "]\n",
    "views = 0\n",
    "users = 0\n",
    "end_user = ''\n",
    "for s in stream:\n",
    "    s = s.split(',')\n",
    "    if s[0] != end_user:\n",
    "        users +=1\n",
    "    views += int(s[2])\n",
    "avg = views/users\n",
    "print (avg)"
   ]
  },
  {
   "cell_type": "code",
   "execution_count": 8,
   "metadata": {},
   "outputs": [
    {
     "name": "stdout",
     "output_type": "stream",
     "text": [
      "Напишите числа через пробел: 1 7 7 3 3 4 4 8 8\n",
      "3 4 7 8 "
     ]
    }
   ],
   "source": [
    "#Задание6\n",
    "figures = input ('Напишите числа через пробел: ')\n",
    "# создаем пустой список, чтобы в него добавлять нужные значения\n",
    "list_1 = list()\n",
    "for i in figures: \n",
    "    if ((i !=' ') and (figures.count(i)>1) and (i not in list_1)):\n",
    "        list_1.append(i)\n",
    "list_1.sort()\n",
    "for i in list_1:\n",
    "    print(i,end = ' ')\n"
   ]
  },
  {
   "cell_type": "code",
   "execution_count": null,
   "metadata": {},
   "outputs": [],
   "source": []
  }
 ],
 "metadata": {
  "kernelspec": {
   "display_name": "Python 3",
   "language": "python",
   "name": "python3"
  },
  "language_info": {
   "codemirror_mode": {
    "name": "ipython",
    "version": 3
   },
   "file_extension": ".py",
   "mimetype": "text/x-python",
   "name": "python",
   "nbconvert_exporter": "python",
   "pygments_lexer": "ipython3",
   "version": "3.8.5"
  }
 },
 "nbformat": 4,
 "nbformat_minor": 4
}
